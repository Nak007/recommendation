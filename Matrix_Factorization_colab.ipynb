{
 "cells": [
  {
   "cell_type": "markdown",
   "metadata": {},
   "source": [
    "### Google.colab\n",
    "Only execute this cell when use on google colab platform (colab)."
   ]
  },
  {
   "cell_type": "markdown",
   "metadata": {},
   "source": [
    "<table class=\"tfo-notebook-buttons\" align=\"left\">\n",
    "  <td>\n",
    "    <a target=\"_blank\" href=\"https://github.com/Nak007/recommendation\">\n",
    "    <img src=\"https://www.tensorflow.org/images/GitHub-Mark-32px.png\" />View source on GitHub</a>\n",
    "  </td>\n",
    "</table>"
   ]
  },
  {
   "cell_type": "code",
   "execution_count": null,
   "metadata": {},
   "outputs": [],
   "source": [
    "# Mount with google drive.\n",
    "from google.colab import drive\n",
    "drive.mount('/content/dirve')"
   ]
  },
  {
   "cell_type": "code",
   "execution_count": null,
   "metadata": {},
   "outputs": [],
   "source": [
    "import sys\n",
    "!git clone 'http://github.com/Nak007/recommendation.git'\n",
    "sys.path.append('/content/recommendation')"
   ]
  },
  {
   "cell_type": "markdown",
   "metadata": {},
   "source": [
    "## Example"
   ]
  },
  {
   "cell_type": "code",
   "execution_count": 8,
   "metadata": {
    "colab": {
     "base_uri": "https://localhost:8080/"
    },
    "executionInfo": {
     "elapsed": 3202,
     "status": "ok",
     "timestamp": 1604368686611,
     "user": {
      "displayName": "Danusorn Sitdhirasdr",
      "photoUrl": "",
      "userId": "00479571870945710380"
     },
     "user_tz": -420
    },
    "id": "ywsZFg3-IqH_",
    "outputId": "e1a5e8fd-ad74-457a-809f-a54eebf3ac82"
   },
   "outputs": [],
   "source": [
    "import numpy as np, pandas as pd\n",
    "import matplotlib.pyplot as plt\n",
    "pd.options.display.float_format = '{:,.4f}'.format"
   ]
  },
  {
   "cell_type": "markdown",
   "metadata": {},
   "source": [
    "This dataset describes 5-star rating and free-text tagging activity from [MovieLens](http://movielens.org), a movie recommendation service. It contains 100836 ratings and 3683 tag applications across 9742 movies. These data were created by 610 users between March 29, 1996 and September 24, 2018. This dataset was generated on September 26, 2018."
   ]
  },
  {
   "cell_type": "code",
   "execution_count": 9,
   "metadata": {
    "scrolled": false
   },
   "outputs": [],
   "source": [
    "ratings = pd.read_csv(\"ratings.csv\")"
   ]
  },
  {
   "cell_type": "markdown",
   "metadata": {},
   "source": [
    "`timestamp` represent seconds since midnight Coordinated Universal Time (UTC) of January 1, 1970. Convert `timestamp` to date-time format."
   ]
  },
  {
   "cell_type": "code",
   "execution_count": 10,
   "metadata": {},
   "outputs": [],
   "source": [
    "ratings[\"timedelta\"] = ratings[\"timestamp\"].astype(int)\n",
    "ratings[\"timestamp\"] = [np.datetime64(\"1970-01-01\") + np.timedelta64(t,\"s\") \n",
    "                        for t in ratings[\"timestamp\"].values]"
   ]
  },
  {
   "cell_type": "code",
   "execution_count": 11,
   "metadata": {},
   "outputs": [
    {
     "data": {
      "text/html": [
       "<div>\n",
       "<style scoped>\n",
       "    .dataframe tbody tr th:only-of-type {\n",
       "        vertical-align: middle;\n",
       "    }\n",
       "\n",
       "    .dataframe tbody tr th {\n",
       "        vertical-align: top;\n",
       "    }\n",
       "\n",
       "    .dataframe thead th {\n",
       "        text-align: right;\n",
       "    }\n",
       "</style>\n",
       "<table border=\"1\" class=\"dataframe\">\n",
       "  <thead>\n",
       "    <tr style=\"text-align: right;\">\n",
       "      <th></th>\n",
       "      <th>userId</th>\n",
       "      <th>movieId</th>\n",
       "      <th>rating</th>\n",
       "      <th>timestamp</th>\n",
       "      <th>timedelta</th>\n",
       "    </tr>\n",
       "  </thead>\n",
       "  <tbody>\n",
       "    <tr>\n",
       "      <th>0</th>\n",
       "      <td>1</td>\n",
       "      <td>1</td>\n",
       "      <td>4.0000</td>\n",
       "      <td>2000-07-30 18:45:03</td>\n",
       "      <td>964982703</td>\n",
       "    </tr>\n",
       "    <tr>\n",
       "      <th>1</th>\n",
       "      <td>1</td>\n",
       "      <td>3</td>\n",
       "      <td>4.0000</td>\n",
       "      <td>2000-07-30 18:20:47</td>\n",
       "      <td>964981247</td>\n",
       "    </tr>\n",
       "    <tr>\n",
       "      <th>2</th>\n",
       "      <td>1</td>\n",
       "      <td>6</td>\n",
       "      <td>4.0000</td>\n",
       "      <td>2000-07-30 18:37:04</td>\n",
       "      <td>964982224</td>\n",
       "    </tr>\n",
       "    <tr>\n",
       "      <th>3</th>\n",
       "      <td>1</td>\n",
       "      <td>47</td>\n",
       "      <td>5.0000</td>\n",
       "      <td>2000-07-30 19:03:35</td>\n",
       "      <td>964983815</td>\n",
       "    </tr>\n",
       "    <tr>\n",
       "      <th>4</th>\n",
       "      <td>1</td>\n",
       "      <td>50</td>\n",
       "      <td>5.0000</td>\n",
       "      <td>2000-07-30 18:48:51</td>\n",
       "      <td>964982931</td>\n",
       "    </tr>\n",
       "  </tbody>\n",
       "</table>\n",
       "</div>"
      ],
      "text/plain": [
       "   userId  movieId  rating           timestamp  timedelta\n",
       "0       1        1  4.0000 2000-07-30 18:45:03  964982703\n",
       "1       1        3  4.0000 2000-07-30 18:20:47  964981247\n",
       "2       1        6  4.0000 2000-07-30 18:37:04  964982224\n",
       "3       1       47  5.0000 2000-07-30 19:03:35  964983815\n",
       "4       1       50  5.0000 2000-07-30 18:48:51  964982931"
      ]
     },
     "execution_count": 11,
     "metadata": {},
     "output_type": "execute_result"
    }
   ],
   "source": [
    "ratings.head()"
   ]
  },
  {
   "cell_type": "markdown",
   "metadata": {},
   "source": [
    "Create `rating_scr`, and `rating_dt`, of shape (`n_userIds`,`n_movieIds`)."
   ]
  },
  {
   "cell_type": "code",
   "execution_count": 12,
   "metadata": {},
   "outputs": [],
   "source": [
    "rating_scr = ratings.pivot_table(values=\"rating\", index=\"userId\", columns=\"movieId\").values\n",
    "date = np.datetime64(\"1970-01-01\")\n",
    "rating_dt = ratings.pivot_table(values=\"timedelta\", index=\"userId\", columns=\"movieId\").values\n",
    "rating_dt = date + np.where(np.isnan(rating_dt), 0, rating_dt).astype(\"timedelta64[s]\")\n",
    "rating_dt = np.where(rating_dt<=date, np.datetime64(\"NaT\"), rating_dt)"
   ]
  },
  {
   "cell_type": "markdown",
   "metadata": {},
   "source": [
    "Create dateset with respect to $n$ month."
   ]
  },
  {
   "cell_type": "code",
   "execution_count": 13,
   "metadata": {},
   "outputs": [
    {
     "name": "stdout",
     "output_type": "stream",
     "text": [
      "There are 9 datasets being created.\n"
     ]
    }
   ],
   "source": [
    "months = np.arange(\"2018-01-01\", \"2018-10-01\", 1, dtype=\"datetime64[M]\")\n",
    "datasets = [np.where(rating_dt<=mth, rating_scr, np.nan) for mth in months]\n",
    "print(\"There are {:,.0f} datasets being created.\".format(len(datasets)))"
   ]
  },
  {
   "cell_type": "markdown",
   "metadata": {},
   "source": [
    "We are reducing data sparsity problem (to certian extent) by selecting $n^{th}$ most-watched movies."
   ]
  },
  {
   "cell_type": "code",
   "execution_count": 14,
   "metadata": {},
   "outputs": [],
   "source": [
    "data = np.where(np.isnan(datasets[0]), np.nan, 1)\n",
    "most_watched = np.nansum(data, axis=0)/data.shape[0]\n",
    "sorted_most_watched = np.sort(most_watched)[::-1]"
   ]
  },
  {
   "cell_type": "code",
   "execution_count": 15,
   "metadata": {},
   "outputs": [
    {
     "data": {
      "image/png": "[encoded data removed]",
      "text/plain": [
       "<Figure size 432x288 with 1 Axes>"
      ]
     },
     "metadata": {
      "needs_background": "light"
     },
     "output_type": "display_data"
    }
   ],
   "source": [
    "n_movies = datasets[0].shape[1]\n",
    "plt.plot(np.arange(n_movies)+1, sorted_most_watched, lw=3, c=\"k\")\n",
    "plt.ylabel(\"% of people who watched movie\", fontsize=12)\n",
    "plt.xlabel(\"Movies\", fontsize=12)\n",
    "plt.show()"
   ]
  },
  {
   "cell_type": "markdown",
   "metadata": {},
   "source": [
    "We select the first $K$ movies."
   ]
  },
  {
   "cell_type": "code",
   "execution_count": 16,
   "metadata": {},
   "outputs": [
    {
     "name": "stdout",
     "output_type": "stream",
     "text": [
      "51 movies are selected (cut-off : 22.30%).\n"
     ]
    }
   ],
   "source": [
    "threshold = sorted_most_watched[:50].min()\n",
    "selected_movies = sorted_most_watched>=threshold\n",
    "print(\"{:,.0f} movies are selected (cut-off : {:.2%}).\".format(sum(selected_movies), threshold))"
   ]
  },
  {
   "cell_type": "markdown",
   "metadata": {},
   "source": [
    "Sparsity after selecting $n$ most-watched movies."
   ]
  },
  {
   "cell_type": "code",
   "execution_count": 17,
   "metadata": {},
   "outputs": [],
   "source": [
    "X = datasets[0][:, selected_movies]"
   ]
  },
  {
   "cell_type": "code",
   "execution_count": 18,
   "metadata": {},
   "outputs": [
    {
     "name": "stdout",
     "output_type": "stream",
     "text": [
      "Sparsity : 91.76%\n"
     ]
    }
   ],
   "source": [
    "sparsity = np.isnan(X).sum()/X.size\n",
    "print(\"Sparsity : {:.2%}\".format(sparsity))"
   ]
  },
  {
   "cell_type": "markdown",
   "metadata": {},
   "source": [
    "Split ratings into random train and test subsets i.e. **X_train**, and **X_test**."
   ]
  },
  {
   "cell_type": "code",
   "execution_count": 40,
   "metadata": {},
   "outputs": [],
   "source": [
    "test_size = 0.2\n",
    "X_train, X_test = rating_train_test(X, test_size, random_state=0)"
   ]
  },
  {
   "cell_type": "markdown",
   "metadata": {},
   "source": [
    "**Regularized Stochastic Gradient Descent**\n",
    "    \n",
    "`RSGD` implements \"Collaborative Filtering\" (CF) by using \"Matrix Factorization\" (MF) that minimizes cost function using gradient descent (biases included) to derive a matrix $P$ containing the latent factors of the user and a matrix $Q$ containing those of the items. The prediction of a rating of an item $Q_{j}$ by $P_{i}$ is as follows: \n",
    "\n",
    "$\\hat{r_{i,j}} \\approx \\mu + b_{i} + b_{j} + P_{i}Q_{j}^{T} $. \n",
    "\n",
    "where $b_{i}$ is the user $i$ bias, $b_{j}$ is the item $j$ bias, and $\\mu$ is the global average of ratings of all the user- item ratings.\n",
    "\n",
    "The cost function is as follows:\n",
    "\n",
    "$L = \\sum_{i=1}^{N}\\sum_{j\\in J(i)}( r_{i,j} - \\hat{r_{i,j}})^2 + \\lambda(\\vert\\vert P \\vert\\vert^{2} + \\vert\\vert Q \\vert\\vert^{2} + b_{i}^{2} + b_{j}^{2})$\n",
    "\n",
    "where $N$ is the number of users, $J(i)$ is the number of items of user $i$, $\\lambda$ is the regularization parameter, and $\\vert\\vert . \\vert\\vert$ is the Frobenius norm."
   ]
  },
  {
   "cell_type": "code",
   "execution_count": 41,
   "metadata": {},
   "outputs": [
    {
     "data": {
      "application/vnd.jupyter.widget-view+json": {
       "model_id": "24b0e146663d441f908e0f4cc05baac2",
       "version_major": 2,
       "version_minor": 0
      },
      "text/plain": [
       "HBox(children=(HTMLMath(value='Initializing . . .'), HTMLMath(value='')))"
      ]
     },
     "metadata": {},
     "output_type": "display_data"
    },
    {
     "name": "stdout",
     "output_type": "stream",
     "text": [
      "Stopping Criteria\n",
      "==============================\n",
      "Converge  : 0.054 (Max=0.0001)\n",
      "------------------------------\n",
      "Patience  : 10 (Max=10)\n",
      "------------------------------\n",
      "Iteration : 151 (Max=5,000)\n",
      "==============================\n"
     ]
    }
   ],
   "source": [
    "estimator = RSGD(biased=False, random_state=0, \n",
    "                 patience=10 , verbose=True, \n",
    "                 alpha=0.001 , random=\"uniform\", \n",
    "                 lr_kwds={\"method\":None})\n",
    "\n",
    "rating = estimator.fit_predict(X_train, n_factors=4, X_val=X_test)"
   ]
  },
  {
   "cell_type": "markdown",
   "metadata": {},
   "source": [
    "Observe the learning curve of two datesets i.e Train and Test."
   ]
  },
  {
   "cell_type": "code",
   "execution_count": 42,
   "metadata": {},
   "outputs": [
    {
     "data": {
      "image/png": "[encoded data removed]",
      "text/plain": [
       "<Figure size 432x288 with 1 Axes>"
      ]
     },
     "metadata": {
      "needs_background": "light"
     },
     "output_type": "display_data"
    }
   ],
   "source": [
    "ax = estimator.plotting(monitor=\"loss\")\n",
    "ax.set_yscale('log')"
   ]
  },
  {
   "cell_type": "code",
   "execution_count": 44,
   "metadata": {},
   "outputs": [
    {
     "data": {
      "text/plain": [
       "array([[4.31, 3.79, 3.52, ..., 3.08, 1.64, 2.5 ],\n",
       "       [3.71, 3.11, 2.92, ..., 2.66, 1.25, 2.  ],\n",
       "       [2.42, 2.01, 2.42, ..., 1.99, 1.19, 1.35],\n",
       "       ...,\n",
       "       [3.42, 3.04, 2.5 , ..., 2.35, 1.25, 2.16],\n",
       "       [4.55, 4.04, 3.98, ..., 3.31, 1.81, 2.52],\n",
       "       [4.48, 3.79, 3.71, ..., 3.26, 1.62, 2.42]])"
      ]
     },
     "execution_count": 44,
     "metadata": {},
     "output_type": "execute_result"
    }
   ],
   "source": [
    "np.round(np.clip(rating, 1, 5), 2)"
   ]
  },
  {
   "cell_type": "markdown",
   "metadata": {},
   "source": [
    "Hyperparameter tuning"
   ]
  },
  {
   "cell_type": "code",
   "execution_count": 45,
   "metadata": {},
   "outputs": [],
   "source": [
    "parameters = [(\"w/o bias (uniform)\", \n",
    "               dict(biased=False, random_state=0, patience=10, \n",
    "                    verbose=False, alpha=0.001, random=\"uniform\")),\n",
    "              (\"w/  bias (normal)\", \n",
    "               dict(biased=True, random_state=0, patience=10, \n",
    "                    verbose=False, alpha=0.001, random=\"normal\")),\n",
    "              (\"w/  bias (uniform)\", \n",
    "               dict(biased=True, random_state=0, patience=10, \n",
    "                    verbose=False, alpha=0.001, random=\"uniform\")),\n",
    "              (\"w/  bias (normal, step)\", \n",
    "               dict(biased=True, random_state=0, patience=10, \n",
    "                    verbose=False, alpha=0.01, random=\"normal\", \n",
    "                    lr_kwds={\"method\":\"step\"}))]"
   ]
  },
  {
   "cell_type": "markdown",
   "metadata": {},
   "source": [
    "Out-of-time datesets"
   ]
  },
  {
   "cell_type": "code",
   "execution_count": 46,
   "metadata": {},
   "outputs": [],
   "source": [
    "X_tests = [a[:, selected_movies] for a in datasets[1:]]\n",
    "X_base  = datasets[0][:, selected_movies]"
   ]
  },
  {
   "cell_type": "markdown",
   "metadata": {},
   "source": [
    "Use **`RecommenderScores()`** to calculate evaluation metrics for recommender as follows;\n",
    "1. Root mean square error (`rmse`)        \n",
    "2. Mean absolute error (`mae`) \n",
    "3. Mean Discounted Cumulative Gain (`dcg`) \n",
    "4. Mean Normalized Discounted Cumulative Gain (`ndcg`). \n",
    "5. Hit-rate (`hitrate`)\n",
    "6. Precision (`precision`)\n",
    "7. Recall (`recall`)"
   ]
  },
  {
   "cell_type": "code",
   "execution_count": 47,
   "metadata": {},
   "outputs": [
    {
     "name": "stdout",
     "output_type": "stream",
     "text": [
      "Processing . . . w/o bias (uniform)\n",
      "Processing . . . w/  bias (normal)\n",
      "Processing . . . w/  bias (uniform)\n",
      "Processing . . . w/  bias (normal, step)\n",
      "Tasks completed succesfully . . .\n"
     ]
    }
   ],
   "source": [
    "ratings = []\n",
    "kwargs  = dict(n_factors=3, X_val=X_test)\n",
    "for name, kwds in parameters:\n",
    "    print(f\"Processing . . . {name}\")\n",
    "    estimator = RSGD(**kwds)\n",
    "    X_score   = estimator.fit_predict(X_train, **kwargs)\n",
    "    X_eval    = RecommenderScores(X_base, X_tests, X_score, k=5, kwargs={\"k\":5})\n",
    "    ratings  += [(name, X_score, X_eval)]\n",
    "    \n",
    "print(\"Tasks completed succesfully . . .\")"
   ]
  },
  {
   "cell_type": "markdown",
   "metadata": {},
   "source": [
    "The function `plot_results` is used to plot the evaluation metrics."
   ]
  },
  {
   "cell_type": "code",
   "execution_count": 48,
   "metadata": {},
   "outputs": [],
   "source": [
    "def plot_results(ratings, metric=\"rmse\", plot_kwds=None, x=None, ax=None):\n",
    "    \n",
    "    title   = \"Regularized Stochastic Gradient Descent\"\n",
    "    ylabels = {\"rmse\"     : \"Root mean square error\", \n",
    "               \"mae\"      : \"Mean absolute error\",\n",
    "               \"dcg\"      : \"Mean Discounted Cumulative Gain\",\n",
    "               \"ndcg\"     : (\"Mean Normalized\\nDiscounted \"\n",
    "                             \"Cumulative Gain\"),\n",
    "               \"hitrate\"  : \"Hit-rate\",\n",
    "               \"precision\": \"Precision\",\n",
    "               \"recall\"   : \"Recall\"}\n",
    "    \n",
    "    ax   = plt.subplots()[1] if ax is None else ax\n",
    "    kwds = {\"linewidth\" : 1.5, \"marker\" : \"o\"}\n",
    "    kwds.update(({} if plot_kwds is None else plot_kwds))\n",
    "    \n",
    "    for name, _, eval_metric in ratings:\n",
    "        y = getattr(eval_metric, metric)\n",
    "        x = np.arange(len(y)) if x is None else x\n",
    "        ax.plot(x, y, **{**kwds,**dict(label=name)})\n",
    "        \n",
    "    ax.set_ylabel(ylabels[metric], fontsize=12)\n",
    "    ax.legend(loc=0, fontsize=12)\n",
    "    ax.set_title(title, fontsize=14)\n",
    "    plt.tight_layout()\n",
    "    return ax"
   ]
  },
  {
   "cell_type": "code",
   "execution_count": 49,
   "metadata": {},
   "outputs": [
    {
     "data": {
      "image/png": "[encoded data removed]",
      "text/plain": [
       "<Figure size 432x288 with 1 Axes>"
      ]
     },
     "metadata": {
      "needs_background": "light"
     },
     "output_type": "display_data"
    }
   ],
   "source": [
    "ax = plot_results(ratings, \"hitrate\", x=months[1:])"
   ]
  },
  {
   "cell_type": "markdown",
   "metadata": {},
   "source": [
    "Actual **Hit-rate**"
   ]
  },
  {
   "cell_type": "code",
   "execution_count": 87,
   "metadata": {},
   "outputs": [
    {
     "data": {
      "image/png": "[encoded data removed]",
      "text/plain": [
       "<Figure size 432x288 with 1 Axes>"
      ]
     },
     "metadata": {
      "needs_background": "light"
     },
     "output_type": "display_data"
    }
   ],
   "source": [
    "x  = months[1:]\n",
    "y = ratings[0][2].n_ratings/len(X_train)\n",
    "\n",
    "Scores = np.zeros(X_train.shape)\n",
    "for n in ratings: Scores  += n[1]\n",
    "avg_scores  = Scores/len(ratings)\n",
    "avg_hitrate = RecommenderScores(X_base, X_tests, avg_scores,\n",
    "                                k=5, kwargs={\"k\":5}).hitrate\n",
    "\n",
    "plt.plot(x, y, marker=\"o\", linewidth=2, \n",
    "         c='k', label=\"Actual hitrate\")\n",
    "plt.plot(x, avg_hitrate, marker=\"o\", \n",
    "         linewidth=2, c='r', label=\"Mean of estimates\")\n",
    "plt.ylabel(\"Hit-rate\", fontsize=12)\n",
    "plt.title(\"Cumulative Hit-Rate\", fontsize=14)\n",
    "plt.legend(loc=0, fontsize=12)\n",
    "plt.tight_layout()\n",
    "plt.show()"
   ]
  },
  {
   "cell_type": "markdown",
   "metadata": {},
   "source": [
    "Use **`ItemReccommender()`** to create recommendations for respective users wrt. predicted scores/ratings."
   ]
  },
  {
   "cell_type": "code",
   "execution_count": 88,
   "metadata": {},
   "outputs": [],
   "source": [
    "selected_ratings = ratings[1][1]"
   ]
  },
  {
   "cell_type": "code",
   "execution_count": 89,
   "metadata": {},
   "outputs": [],
   "source": [
    "items = ['item_{}'.format(str(n).zfill(2)) for n in np.arange(X_train.shape[1])+1]\n",
    "rec_items, rec_scores = ItemReccommender(X_train, selected_ratings, items=items)"
   ]
  },
  {
   "cell_type": "markdown",
   "metadata": {},
   "source": [
    "Top-5 recommendations for each user."
   ]
  },
  {
   "cell_type": "code",
   "execution_count": 90,
   "metadata": {},
   "outputs": [
    {
     "data": {
      "text/plain": [
       "array([['item_47', 'item_32', 'item_16', 'item_29', 'item_17'],\n",
       "       ['item_44', 'item_47', 'item_01', 'item_17', 'item_06'],\n",
       "       ['item_47', 'item_32', 'item_01', 'item_06', 'item_44'],\n",
       "       ...,\n",
       "       ['item_44', 'item_06', 'item_29', 'item_17', 'item_11'],\n",
       "       ['item_47', 'item_06', 'item_44', 'item_32', 'item_01'],\n",
       "       ['item_06', 'item_29', 'item_17', 'item_11', 'item_34']],\n",
       "      dtype=object)"
      ]
     },
     "execution_count": 90,
     "metadata": {},
     "output_type": "execute_result"
    }
   ],
   "source": [
    "rec_items[:,:5]"
   ]
  }
 ],
 "metadata": {
  "kernelspec": {
   "display_name": "Python 3",
   "language": "python",
   "name": "python3"
  },
  "language_info": {
   "codemirror_mode": {
    "name": "ipython",
    "version": 3
   },
   "file_extension": ".py",
   "mimetype": "text/x-python",
   "name": "python",
   "nbconvert_exporter": "python",
   "pygments_lexer": "ipython3",
   "version": "3.8.8"
  }
 },
 "nbformat": 4,
 "nbformat_minor": 2
}
